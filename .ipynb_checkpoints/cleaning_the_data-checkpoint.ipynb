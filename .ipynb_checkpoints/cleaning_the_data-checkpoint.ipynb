{
 "cells": [
  {
   "cell_type": "code",
   "execution_count": 1,
   "id": "7e82d5ec",
   "metadata": {},
   "outputs": [],
   "source": [
    "import pandas as pd\n",
    "import numpy as np\n",
    "import matplotlib.pyplot as plt\n",
    "import seaborn as sns \n",
    "pd.set_option('display.max_columns', None)"
   ]
  },
  {
   "cell_type": "code",
   "execution_count": null,
   "id": "84afe912",
   "metadata": {},
   "outputs": [],
   "source": [
    "data = pd.read_csv('learningSet.csv')"
   ]
  },
  {
   "cell_type": "code",
   "execution_count": null,
   "id": "3cd2517c",
   "metadata": {},
   "outputs": [],
   "source": [
    "print(data.shape)\n",
    "data.head(10)"
   ]
  },
  {
   "cell_type": "code",
   "execution_count": null,
   "id": "2b88c253",
   "metadata": {},
   "outputs": [],
   "source": [
    "data['TARGET_B'].value_counts() # checking target A counts"
   ]
  },
  {
   "cell_type": "code",
   "execution_count": null,
   "id": "59da8e49",
   "metadata": {},
   "outputs": [],
   "source": [
    "data['TARGET_D'].value_counts() # checking target D value counts "
   ]
  },
  {
   "cell_type": "code",
   "execution_count": null,
   "id": "5757f540",
   "metadata": {},
   "outputs": [],
   "source": [
    "data.dtypes"
   ]
  },
  {
   "cell_type": "markdown",
   "id": "4f866b19",
   "metadata": {},
   "source": [
    "# Checking and Handling NaN Values in the Categorical DataSet"
   ]
  },
  {
   "cell_type": "code",
   "execution_count": null,
   "id": "bcb4f955",
   "metadata": {},
   "outputs": [],
   "source": [
    "data.isna().sum()"
   ]
  },
  {
   "cell_type": "code",
   "execution_count": null,
   "id": "39bb180a",
   "metadata": {},
   "outputs": [],
   "source": [
    "data.isna().sum()/len(data)"
   ]
  },
  {
   "cell_type": "code",
   "execution_count": null,
   "id": "ad8d1781",
   "metadata": {},
   "outputs": [],
   "source": [
    "nulls_percent_df = pd.DataFrame(data.isna().sum()/len(data)).reset_index()\n",
    "#nulls_percent_df\n",
    "nulls_percent_df.columns = ['column_name', 'nulls_percentage']\n",
    "# nulls_percent_df"
   ]
  },
  {
   "cell_type": "code",
   "execution_count": null,
   "id": "64329587",
   "metadata": {},
   "outputs": [],
   "source": [
    " display(nulls_percent_df[nulls_percent_df['nulls_percentage']!=0])\n",
    "# # nulls_percent_df[nulls_percent_df['nulls_percentage']!=0].head()\n",
    "# # nulls_percent_df[nulls_percent_df['nulls_percentage']!=0].tail()"
   ]
  },
  {
   "cell_type": "code",
   "execution_count": null,
   "id": "717a9ac5",
   "metadata": {},
   "outputs": [],
   "source": [
    "drop_list = [ ]"
   ]
  },
  {
   "cell_type": "code",
   "execution_count": null,
   "id": "a705f0fa",
   "metadata": {},
   "outputs": [],
   "source": [
    "columns_above_threshold = nulls_percent_df[nulls_percent_df['nulls_percentage']>0.5]\n",
    "#columns_above_threshold['column_name']"
   ]
  },
  {
   "cell_type": "code",
   "execution_count": null,
   "id": "9ed49a73",
   "metadata": {},
   "outputs": [],
   "source": [
    "drop_list = list(columns_above_threshold['column_name'])\n",
    "print(drop_list)"
   ]
  },
  {
   "cell_type": "markdown",
   "id": "c834d5ce",
   "metadata": {},
   "source": [
    "# Remove columns with null values greater than 50 Percent"
   ]
  },
  {
   "cell_type": "code",
   "execution_count": null,
   "id": "09de8347",
   "metadata": {},
   "outputs": [],
   "source": [
    "cols = ['OSOURCE', 'ZIP']\n",
    "for item in cols:\n",
    "    drop_list.remove(item)  \n",
    "print(drop_list)"
   ]
  },
  {
   "cell_type": "markdown",
   "id": "ace8366c",
   "metadata": {},
   "source": [
    "# More Cleaning Activities"
   ]
  },
  {
   "cell_type": "code",
   "execution_count": null,
   "id": "e55e1048",
   "metadata": {},
   "outputs": [],
   "source": [
    "data['MAILCODE'].value_counts()"
   ]
  },
  {
   "cell_type": "code",
   "execution_count": null,
   "id": "e18185eb",
   "metadata": {},
   "outputs": [],
   "source": [
    "data['MAILCODE'] = data['MAILCODE'].apply(lambda x: x.replace(\" \", \"A\"))"
   ]
  },
  {
   "cell_type": "code",
   "execution_count": null,
   "id": "d87c469b",
   "metadata": {},
   "outputs": [],
   "source": [
    "data = data.apply(lambda x: x.replace(\" \", np.NaN))\n",
    "data.head()"
   ]
  },
  {
   "cell_type": "code",
   "execution_count": null,
   "id": "b1cb3973",
   "metadata": {},
   "outputs": [],
   "source": [
    "data.isna().sum()/len(data)"
   ]
  },
  {
   "cell_type": "code",
   "execution_count": null,
   "id": "dba35314",
   "metadata": {},
   "outputs": [],
   "source": [
    "f = pd.DataFrame(data.isna().sum()/len(data)).reset_index()\n",
    "nulls_percent_df\n",
    "nulls_percent_df.columns = ['column_name', 'nulls_percentage']\n",
    "nulls_percent_df"
   ]
  },
  {
   "cell_type": "code",
   "execution_count": null,
   "id": "920dfdea",
   "metadata": {},
   "outputs": [],
   "source": [
    "nulls_percent_df[nulls_percent_df['nulls_percentage']!=0]"
   ]
  },
  {
   "cell_type": "code",
   "execution_count": null,
   "id": "4066ca7b",
   "metadata": {},
   "outputs": [],
   "source": [
    "columns_above_threshold = nulls_percent_df[nulls_percent_df['nulls_percentage']>0.25]\n",
    "columns_above_threshold['column_name']"
   ]
  },
  {
   "cell_type": "code",
   "execution_count": null,
   "id": "cb98847e",
   "metadata": {},
   "outputs": [],
   "source": [
    "columns_above_threshold = nulls_percent_df[nulls_percent_df['nulls_percentage']>0.5]\n",
    "columns_above_threshold['column_name']"
   ]
  },
  {
   "cell_type": "code",
   "execution_count": null,
   "id": "71e68097",
   "metadata": {},
   "outputs": [],
   "source": [
    "drop_list = list(columns_above_threshold['column_name'])\n",
    "print(drop_columns_list)"
   ]
  },
  {
   "cell_type": "code",
   "execution_count": null,
   "id": "e6740180",
   "metadata": {},
   "outputs": [],
   "source": [
    "cols1 = ['WEALTH1', 'WEALTH2', 'VETERANS', 'SOLIH']\n",
    "for item in cols1:\n",
    "    drop_columns_list.remove(item)  \n",
    "print(drop_columns_list)"
   ]
  },
  {
   "cell_type": "markdown",
   "id": "9aa1e70f",
   "metadata": {},
   "source": [
    "# Separating Target, Numerical Features, and Categorical Features"
   ]
  },
  {
   "cell_type": "code",
   "execution_count": null,
   "id": "f0aad641",
   "metadata": {},
   "outputs": [],
   "source": [
    "Y = data[['TARGET_B', 'TARGET_D']]\n",
    "#Y"
   ]
  },
  {
   "cell_type": "code",
   "execution_count": null,
   "id": "a7a93593",
   "metadata": {},
   "outputs": [],
   "source": [
    "numerical = data.select_dtypes(np.number)\n",
    "numerical = numerical.drop(columns = ['TARGET_B', 'TARGET_D'])\n",
    "#numerical.head()"
   ]
  },
  {
   "cell_type": "code",
   "execution_count": null,
   "id": "a88e08ee",
   "metadata": {},
   "outputs": [],
   "source": [
    "numerical.shape"
   ]
  },
  {
   "cell_type": "code",
   "execution_count": null,
   "id": "9547f80e",
   "metadata": {},
   "outputs": [],
   "source": [
    "categoricals = data.select_dtypes(object)\n",
    "categoricals.head()"
   ]
  },
  {
   "cell_type": "code",
   "execution_count": null,
   "id": "eb5e11c3",
   "metadata": {},
   "outputs": [],
   "source": [
    "categoricals.shape"
   ]
  },
  {
   "cell_type": "markdown",
   "id": "3b478f97",
   "metadata": {},
   "source": [
    "# Working with categorical columns"
   ]
  },
  {
   "cell_type": "code",
   "execution_count": null,
   "id": "f8eac624",
   "metadata": {},
   "outputs": [],
   "source": [
    "pd.DataFrame(categoricals['STATE'].value_counts()).reset_index()"
   ]
  },
  {
   "cell_type": "code",
   "execution_count": null,
   "id": "92a6dfb3",
   "metadata": {},
   "outputs": [],
   "source": [
    "df = pd.DataFrame(categorical['STATE'].value_counts()).reset_index()\n",
    "\n",
    "df.columns = ['state', 'count']\n",
    "other_states = list(df[df['count']<2500]['state'])\n",
    "#other_states\n",
    "def clean_state(x):\n",
    "    if x in other_states:\n",
    "        return 'other'\n",
    "    else:\n",
    "        return x\n",
    "    \n",
    "categorical['STATE'] = list(map(clean_state, categorical['STATE']))"
   ]
  },
  {
   "cell_type": "code",
   "execution_count": null,
   "id": "9e8df7aa",
   "metadata": {},
   "outputs": [],
   "source": [
    "categorical['STATE'].value_counts()"
   ]
  },
  {
   "cell_type": "code",
   "execution_count": null,
   "id": "91c8c90a",
   "metadata": {},
   "outputs": [],
   "source": []
  },
  {
   "cell_type": "code",
   "execution_count": null,
   "id": "3a559501",
   "metadata": {},
   "outputs": [],
   "source": [
    "categorical['DOMAIN'].value_counts(dropna=False)\n",
    "categorical['DOMAIN'] = categorical['DOMAIN'].fillna('R2')"
   ]
  },
  {
   "cell_type": "code",
   "execution_count": null,
   "id": "0ed0b0e4",
   "metadata": {},
   "outputs": [],
   "source": [
    "categorical['DOMAIN_A'] = list(map(lambda x: x[0], categorical['DOMAIN']))\n",
    "categorical['DOMAIN_B'] = list(map(lambda x: x[1], categorical['DOMAIN']))"
   ]
  },
  {
   "cell_type": "code",
   "execution_count": null,
   "id": "f8f61397",
   "metadata": {},
   "outputs": [],
   "source": [
    "categorical.DOMAIN_A.value_counts()"
   ]
  },
  {
   "cell_type": "code",
   "execution_count": null,
   "id": "2cbff75a",
   "metadata": {},
   "outputs": [],
   "source": [
    "categorical = categorical.drop(columns=['DOMAIN'])\n",
    "categorical.head()"
   ]
  },
  {
   "cell_type": "code",
   "execution_count": null,
   "id": "78ab279f",
   "metadata": {},
   "outputs": [],
   "source": []
  },
  {
   "cell_type": "code",
   "execution_count": null,
   "id": "2d9dc6eb",
   "metadata": {},
   "outputs": [],
   "source": [
    "categorical['MDMAUD_A'].value_counts()\n",
    "drop_list = drop_list + ['MDMAUD_R', 'MDMAUD_F','MDMAUD_A']"
   ]
  },
  {
   "cell_type": "markdown",
   "id": "99daad5c",
   "metadata": {},
   "source": [
    "# Replacing Null Values"
   ]
  },
  {
   "cell_type": "code",
   "execution_count": null,
   "id": "350b19af",
   "metadata": {},
   "outputs": [],
   "source": [
    "categorical['CLUSTER'].value_counts(dropna=False)\n",
    "categorical['CLUSTER'].sort_values().unique()"
   ]
  },
  {
   "cell_type": "code",
   "execution_count": null,
   "id": "425298ed",
   "metadata": {},
   "outputs": [],
   "source": [
    "sorted(categorical['CLUSTER'].unique())\n",
    "categorical['CLUSTER'].value_counts()"
   ]
  },
  {
   "cell_type": "code",
   "execution_count": null,
   "id": "cd8358d7",
   "metadata": {},
   "outputs": [],
   "source": [
    "sorted(categorical['CLUSTER'].value_counts().index)\n",
    "categorical['CLUSTER'] = categorical['CLUSTER'].fillna('40') "
   ]
  },
  {
   "cell_type": "code",
   "execution_count": null,
   "id": "808767c8",
   "metadata": {},
   "outputs": [],
   "source": []
  },
  {
   "cell_type": "code",
   "execution_count": null,
   "id": "6c749f53",
   "metadata": {},
   "outputs": [],
   "source": [
    "print(categoricals['GENDER'].value_counts())"
   ]
  },
  {
   "cell_type": "code",
   "execution_count": null,
   "id": "9c30f94b",
   "metadata": {},
   "outputs": [],
   "source": [
    "#categoricals['GENDER'] = categoricals['GENDER'].fillna('F')\n",
    "categoricals['GENDER']  = categoricals['GENDER'] .apply(lambda x: x.replace(\" \", \"F\"))"
   ]
  },
  {
   "cell_type": "code",
   "execution_count": null,
   "id": "376e5209",
   "metadata": {},
   "outputs": [],
   "source": [
    "categoricals['GENDER'] = categoricals['GENDER'].replace(['U', 'J', 'C', 'A'], 'Others')\n",
    "categoricals['GENDER'].value_counts()"
   ]
  },
  {
   "cell_type": "code",
   "execution_count": null,
   "id": "2db9cd4c",
   "metadata": {},
   "outputs": [],
   "source": []
  },
  {
   "cell_type": "code",
   "execution_count": null,
   "id": "70af2be6",
   "metadata": {},
   "outputs": [],
   "source": [
    "print(categoricals['HOMEOWNR'].value_counts())"
   ]
  },
  {
   "cell_type": "code",
   "execution_count": null,
   "id": "75fc880f",
   "metadata": {},
   "outputs": [],
   "source": [
    "categoricals['HOMEOWNR']  = categoricals['HOMEOWNR'] .apply(lambda x: x.replace(\" \", \"U\"))\n",
    "categoricals['HOMEOWNR'].value_counts()"
   ]
  },
  {
   "cell_type": "code",
   "execution_count": null,
   "id": "8b686df9",
   "metadata": {},
   "outputs": [],
   "source": []
  },
  {
   "cell_type": "code",
   "execution_count": null,
   "id": "6255bf44",
   "metadata": {},
   "outputs": [],
   "source": [
    "categorical['DATASRCE'] = categorical['DATASRCE'].value_counts()"
   ]
  },
  {
   "cell_type": "markdown",
   "id": "dbe7bc44",
   "metadata": {},
   "source": [
    "# Removing columns with similar information"
   ]
  },
  {
   "cell_type": "code",
   "execution_count": null,
   "id": "aae27951",
   "metadata": {},
   "outputs": [],
   "source": [
    "categorical['RFA_6'].value_counts()"
   ]
  },
  {
   "cell_type": "code",
   "execution_count": null,
   "id": "86832ce6",
   "metadata": {},
   "outputs": [],
   "source": [
    "# We will keep the column RFA_2X. We will delete rest of the columns \n",
    "\n",
    "for col_name in categorical.columns:\n",
    "    if \"RFA\" in col_name:\n",
    "        drop_list.append(col_name)  "
   ]
  },
  {
   "cell_type": "code",
   "execution_count": null,
   "id": "d0493163",
   "metadata": {},
   "outputs": [],
   "source": [
    "drop_list.remove('RFA_2R')\n",
    "drop_list.remove('RFA_2A')\n",
    "drop_list"
   ]
  },
  {
   "cell_type": "code",
   "execution_count": null,
   "id": "0ef356a6",
   "metadata": {},
   "outputs": [],
   "source": [
    "categorical = categorical.drop(columns=drop_list)\n",
    "categorical.head()"
   ]
  },
  {
   "cell_type": "code",
   "execution_count": null,
   "id": "1e773f43",
   "metadata": {},
   "outputs": [],
   "source": [
    "categorical.isna().sum()"
   ]
  },
  {
   "cell_type": "code",
   "execution_count": null,
   "id": "77cdc241",
   "metadata": {},
   "outputs": [],
   "source": []
  },
  {
   "cell_type": "code",
   "execution_count": null,
   "id": "076fcacd",
   "metadata": {},
   "outputs": [],
   "source": [
    "data['OSOURCE'].value_counts(dropna=False).head(60)"
   ]
  },
  {
   "cell_type": "code",
   "execution_count": null,
   "id": "13bdad9a",
   "metadata": {},
   "outputs": [],
   "source": [
    "data['OSOURCE'] = data['OSOURCE'].fillna('MBC')"
   ]
  },
  {
   "cell_type": "code",
   "execution_count": null,
   "id": "83665734",
   "metadata": {},
   "outputs": [],
   "source": [
    "categorical = categorical.drop(columns=['OSOURCE', 'ZIP'])\n",
    "categorical.head()"
   ]
  },
  {
   "cell_type": "markdown",
   "id": "5bf3ef9b",
   "metadata": {},
   "source": [
    "# Working with Numerical Columns"
   ]
  },
  {
   "cell_type": "code",
   "execution_count": null,
   "id": "40c5c408",
   "metadata": {},
   "outputs": [],
   "source": [
    "numerical.head()"
   ]
  },
  {
   "cell_type": "code",
   "execution_count": null,
   "id": "50a7fbf7",
   "metadata": {},
   "outputs": [],
   "source": [
    "numerical.shape"
   ]
  },
  {
   "cell_type": "code",
   "execution_count": null,
   "id": "35ecff43",
   "metadata": {},
   "outputs": [],
   "source": [
    "df = pd.DataFrame(numerical.isna().sum()).reset_index()\n",
    "df.columns = ['column_name', 'nulls']\n",
    "df[df['nulls']>0]"
   ]
  },
  {
   "cell_type": "markdown",
   "id": "8758355a",
   "metadata": {},
   "source": [
    "# Filling NULL values together with plots"
   ]
  },
  {
   "cell_type": "code",
   "execution_count": null,
   "id": "87d80796",
   "metadata": {},
   "outputs": [],
   "source": [
    "numerical['AGE'].value_counts(dropna=False)"
   ]
  },
  {
   "cell_type": "code",
   "execution_count": null,
   "id": "9a17ada9",
   "metadata": {},
   "outputs": [],
   "source": [
    "sns.distplot(numerical['AGE'])\n",
    "plt.show()"
   ]
  }
 ],
 "metadata": {
  "kernelspec": {
   "display_name": "Python 3 (ipykernel)",
   "language": "python",
   "name": "python3"
  },
  "language_info": {
   "codemirror_mode": {
    "name": "ipython",
    "version": 3
   },
   "file_extension": ".py",
   "mimetype": "text/x-python",
   "name": "python",
   "nbconvert_exporter": "python",
   "pygments_lexer": "ipython3",
   "version": "3.11.3"
  }
 },
 "nbformat": 4,
 "nbformat_minor": 5
}
