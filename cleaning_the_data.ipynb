{
 "cells": [
  {
   "cell_type": "code",
   "execution_count": 1,
   "id": "7e82d5ec",
   "metadata": {},
   "outputs": [],
   "source": [
    "import pandas as pd                     # importing relevant libraries\n",
    "import numpy as np\n",
    "import matplotlib.pyplot as plt\n",
    "import seaborn as sns \n",
    "pd.set_option('display.max_columns', None)"
   ]
  },
  {
   "cell_type": "code",
   "execution_count": 3,
   "id": "84afe912",
   "metadata": {},
   "outputs": [],
   "source": [
    "data = pd.read_csv('learningSet.csv')       # import data"
   ]
  },
  {
   "cell_type": "code",
   "execution_count": null,
   "id": "3cd2517c",
   "metadata": {},
   "outputs": [],
   "source": [
    "print(data.shape)\n",
    "#data.head(10)"
   ]
  },
  {
   "cell_type": "code",
   "execution_count": null,
   "id": "2b88c253",
   "metadata": {},
   "outputs": [],
   "source": [
    "data['TARGET_B'].value_counts() # checking target A counts"
   ]
  },
  {
   "cell_type": "code",
   "execution_count": null,
   "id": "59da8e49",
   "metadata": {},
   "outputs": [],
   "source": [
    "data['TARGET_D'].value_counts() # checking target D value counts "
   ]
  },
  {
   "cell_type": "code",
   "execution_count": null,
   "id": "5757f540",
   "metadata": {},
   "outputs": [],
   "source": [
    "data.dtypes"
   ]
  },
  {
   "cell_type": "markdown",
   "id": "4f866b19",
   "metadata": {},
   "source": [
    "# Checking and Handling NaN Values in the Categorical DataSet"
   ]
  },
  {
   "cell_type": "code",
   "execution_count": null,
   "id": "bcb4f955",
   "metadata": {},
   "outputs": [],
   "source": [
    "data.isna().sum()          # checking if nans exist and if yes, sum them"
   ]
  },
  {
   "cell_type": "code",
   "execution_count": null,
   "id": "39bb180a",
   "metadata": {},
   "outputs": [],
   "source": [
    "data.isna().sum()/len(data)    # nan percentage per feature"
   ]
  },
  {
   "cell_type": "code",
   "execution_count": null,
   "id": "ad8d1781",
   "metadata": {},
   "outputs": [],
   "source": [
    "nulls_percent_df = pd.DataFrame(data.isna().sum()/len(data)).reset_index()\n",
    "#nulls_percent_df\n",
    "nulls_percent_df.columns = ['column_name', 'nulls_percentage']\n",
    "# nulls_percent_df"
   ]
  },
  {
   "cell_type": "code",
   "execution_count": null,
   "id": "64329587",
   "metadata": {},
   "outputs": [],
   "source": [
    " display(nulls_percent_df[nulls_percent_df['nulls_percentage']!=0])\n",
    "# # nulls_percent_df[nulls_percent_df['nulls_percentage']!=0].head()\n",
    "# # nulls_percent_df[nulls_percent_df['nulls_percentage']!=0].tail()"
   ]
  },
  {
   "cell_type": "code",
   "execution_count": null,
   "id": "717a9ac5",
   "metadata": {},
   "outputs": [],
   "source": [
    "drop_list = [ ]"
   ]
  },
  {
   "cell_type": "code",
   "execution_count": null,
   "id": "a705f0fa",
   "metadata": {},
   "outputs": [],
   "source": [
    "columns_above_threshold = nulls_percent_df[nulls_percent_df['nulls_percentage']>0.5]   # checking for columns above a 0.5 threshold to get candidates for drop\n",
    "#columns_above_threshold['column_name']"
   ]
  },
  {
   "cell_type": "code",
   "execution_count": null,
   "id": "9ed49a73",
   "metadata": {},
   "outputs": [],
   "source": [
    "drop_list = list(columns_above_threshold['column_name'])     # drop list\n",
    "len(drop_list)"
   ]
  },
  {
   "cell_type": "markdown",
   "id": "c834d5ce",
   "metadata": {},
   "source": [
    "# Remove columns with null values greater than 50 Percent"
   ]
  },
  {
   "cell_type": "code",
   "execution_count": null,
   "id": "09de8347",
   "metadata": {},
   "outputs": [],
   "source": [
    "cols = ['OSOURCE', 'ZIP']\n",
    "for item in cols:\n",
    "    drop_list.append(item)  \n",
    "print(drop_list)"
   ]
  },
  {
   "cell_type": "markdown",
   "id": "ace8366c",
   "metadata": {},
   "source": [
    "# More Cleaning Activities"
   ]
  },
  {
   "cell_type": "code",
   "execution_count": null,
   "id": "e55e1048",
   "metadata": {},
   "outputs": [],
   "source": [
    "data['MAILCODE'].value_counts()"
   ]
  },
  {
   "cell_type": "code",
   "execution_count": null,
   "id": "e18185eb",
   "metadata": {},
   "outputs": [],
   "source": [
    "data['MAILCODE'] = data['MAILCODE'].apply(lambda x: x.replace(\" \", \"A\"))\n",
    "data['MAILCODE'].value_counts() "
   ]
  },
  {
   "cell_type": "code",
   "execution_count": null,
   "id": "d87c469b",
   "metadata": {},
   "outputs": [],
   "source": [
    "data = data.apply(lambda x: x.replace(\" \", np.NaN))\n",
    "data.head()"
   ]
  },
  {
   "cell_type": "code",
   "execution_count": null,
   "id": "31e5dd72",
   "metadata": {},
   "outputs": [],
   "source": [
    "data.isna().sum()/len(data)"
   ]
  },
  {
   "cell_type": "code",
   "execution_count": null,
   "id": "55310e8e",
   "metadata": {},
   "outputs": [],
   "source": [
    "f = pd.DataFrame(data.isna().sum()/len(data)).reset_index()\n",
    "nulls_percent_df\n",
    "nulls_percent_df.columns = ['column_name', 'nulls_percentage']\n",
    "nulls_percent_df"
   ]
  },
  {
   "cell_type": "markdown",
   "id": "9aa1e70f",
   "metadata": {},
   "source": [
    "# Separating Target, Numerical Features, and Categorical Features"
   ]
  },
  {
   "cell_type": "code",
   "execution_count": null,
   "id": "f0aad641",
   "metadata": {},
   "outputs": [],
   "source": [
    "Y = data[['TARGET_B', 'TARGET_D']]\n",
    "Y.to_csv('Y_df_', index = False)"
   ]
  },
  {
   "cell_type": "code",
   "execution_count": null,
   "id": "a7a93593",
   "metadata": {},
   "outputs": [],
   "source": [
    "numericals = data.select_dtypes(np.number)                             # numerical data\n",
    "numericals = numericals.drop(columns = ['TARGET_B', 'TARGET_D'])\n",
    "#numericals.head()"
   ]
  },
  {
   "cell_type": "code",
   "execution_count": null,
   "id": "a88e08ee",
   "metadata": {},
   "outputs": [],
   "source": [
    "numericals.shape"
   ]
  },
  {
   "cell_type": "code",
   "execution_count": null,
   "id": "9547f80e",
   "metadata": {},
   "outputs": [],
   "source": [
    "categoricals = data.select_dtypes(object)        # categorical data\n",
    "categoricals.head()"
   ]
  },
  {
   "cell_type": "code",
   "execution_count": null,
   "id": "eb5e11c3",
   "metadata": {},
   "outputs": [],
   "source": [
    "categoricals.shape"
   ]
  },
  {
   "cell_type": "markdown",
   "id": "3b478f97",
   "metadata": {},
   "source": [
    "# Working with categorical columns"
   ]
  },
  {
   "cell_type": "code",
   "execution_count": null,
   "id": "b7082ea9",
   "metadata": {},
   "outputs": [],
   "source": [
    "pd.DataFrame(categoricals['STATE'].value_counts()).reset_index()"
   ]
  },
  {
   "cell_type": "code",
   "execution_count": null,
   "id": "3e45846f",
   "metadata": {},
   "outputs": [],
   "source": [
    "df = pd.DataFrame(categoricals['STATE'].value_counts()).reset_index()      # placing states with counts under 2500 into other\n",
    "\n",
    "df.columns = ['state', 'count']\n",
    "other_states = list(df[df['count']<2500]['state'])\n",
    "#other_states\n",
    "def clean_state(x):\n",
    "    if x in other_states:\n",
    "        return 'other'\n",
    "    else:\n",
    "        return x\n",
    "    \n",
    "categoricals['STATE'] = list(map(clean_state, categoricals['STATE']))"
   ]
  },
  {
   "cell_type": "code",
   "execution_count": null,
   "id": "3df47c9f",
   "metadata": {},
   "outputs": [],
   "source": [
    "#categoricals['STATE'].value_counts()"
   ]
  },
  {
   "cell_type": "code",
   "execution_count": null,
   "id": "cf9bfa66",
   "metadata": {},
   "outputs": [],
   "source": [
    "categoricals['DOMAIN'].value_counts(dropna=False)                          # handling the domain column\n",
    "categoricals['DOMAIN'] = categoricals['DOMAIN'].fillna('R2')"
   ]
  },
  {
   "cell_type": "code",
   "execution_count": null,
   "id": "fbca019c",
   "metadata": {},
   "outputs": [],
   "source": [
    "categoricals['DOMAIN_A'] = list(map(lambda x: x[0], categoricals['DOMAIN']))\n",
    "categoricals['DOMAIN_B'] = list(map(lambda x: x[1], categoricals['DOMAIN']))"
   ]
  },
  {
   "cell_type": "code",
   "execution_count": null,
   "id": "c457631e",
   "metadata": {},
   "outputs": [],
   "source": [
    "categoricals.DOMAIN_A.value_counts()"
   ]
  },
  {
   "cell_type": "code",
   "execution_count": null,
   "id": "90c3e7c9",
   "metadata": {},
   "outputs": [],
   "source": [
    "categoricals = categoricals.drop(columns=['DOMAIN'])\n",
    "categoricals.head()"
   ]
  },
  {
   "cell_type": "code",
   "execution_count": null,
   "id": "60e00daf",
   "metadata": {},
   "outputs": [],
   "source": []
  },
  {
   "cell_type": "code",
   "execution_count": null,
   "id": "6e5dd414",
   "metadata": {},
   "outputs": [],
   "source": [
    "categoricals['MDMAUD_A'].value_counts()\n",
    "drop_list = drop_list + ['MDMAUD']"
   ]
  },
  {
   "cell_type": "markdown",
   "id": "b847addf",
   "metadata": {},
   "source": [
    "# Replacing Null Values"
   ]
  },
  {
   "cell_type": "code",
   "execution_count": null,
   "id": "c06a39ba",
   "metadata": {},
   "outputs": [],
   "source": [
    "categoricals['CLUSTER'].value_counts(dropna=False)               # handling more nulls or nans\n",
    "categoricals['CLUSTER'].sort_values().unique()"
   ]
  },
  {
   "cell_type": "code",
   "execution_count": null,
   "id": "243e22d0",
   "metadata": {},
   "outputs": [],
   "source": [
    "# sorted(categoricals['CLUSTER'].unique())\n",
    "# categoricals['CLUSTER'].value_counts()"
   ]
  },
  {
   "cell_type": "code",
   "execution_count": null,
   "id": "bef6b4d4",
   "metadata": {},
   "outputs": [],
   "source": [
    "sorted(categoricals['CLUSTER'].value_counts().index)\n",
    "categoricals['CLUSTER'] = categoricals['CLUSTER'].fillna('40') "
   ]
  },
  {
   "cell_type": "code",
   "execution_count": null,
   "id": "a69f1bb5",
   "metadata": {},
   "outputs": [],
   "source": [
    "# print(categoricals['GENDER'].value_counts())"
   ]
  },
  {
   "cell_type": "code",
   "execution_count": null,
   "id": "3d34ce28",
   "metadata": {},
   "outputs": [],
   "source": [
    "categoricals['GENDER'] = categoricals['GENDER'].fillna('F')\n",
    "# categoricals['GENDER']  = categoricals['GENDER'] .apply(lambda x: x.replace(\" \", \"F\"))"
   ]
  },
  {
   "cell_type": "code",
   "execution_count": null,
   "id": "2052f782",
   "metadata": {},
   "outputs": [],
   "source": [
    "categoricals['GENDER'] = categoricals['GENDER'].replace(['U', 'J', 'C', 'A'], 'Others')\n",
    "categoricals['GENDER'].value_counts()"
   ]
  },
  {
   "cell_type": "code",
   "execution_count": null,
   "id": "1798d715",
   "metadata": {},
   "outputs": [],
   "source": [
    "categoricals['GENDER'].value_counts(dropna=False)"
   ]
  },
  {
   "cell_type": "code",
   "execution_count": null,
   "id": "5c3f5524",
   "metadata": {},
   "outputs": [],
   "source": [
    "categoricals['HOMEOWNR'] = categoricals['HOMEOWNR'].fillna('U')"
   ]
  },
  {
   "cell_type": "code",
   "execution_count": null,
   "id": "4f9ecd3b",
   "metadata": {},
   "outputs": [],
   "source": [
    "print(categoricals['HOMEOWNR'].value_counts(dropna = False))"
   ]
  },
  {
   "cell_type": "code",
   "execution_count": null,
   "id": "9b302c79",
   "metadata": {},
   "outputs": [],
   "source": [
    "categoricals['HOMEOWNR'].isna().sum()"
   ]
  },
  {
   "cell_type": "code",
   "execution_count": null,
   "id": "75dba456",
   "metadata": {},
   "outputs": [],
   "source": [
    " categoricals['HOMEOWNR']  = categoricals['HOMEOWNR'] .apply(lambda x: x.replace(\" \", \"U\"))\n",
    " categoricals['HOMEOWNR'].value_counts()"
   ]
  },
  {
   "cell_type": "code",
   "execution_count": null,
   "id": "668fbcf8",
   "metadata": {},
   "outputs": [],
   "source": [
    "# categorical['DATASRCE'] = categorical['DATASRCE'].value_counts()"
   ]
  },
  {
   "cell_type": "markdown",
   "id": "ed2fc8c1",
   "metadata": {},
   "source": [
    "# Removing columns with similar information"
   ]
  },
  {
   "cell_type": "code",
   "execution_count": null,
   "id": "2df2aa13",
   "metadata": {},
   "outputs": [],
   "source": [
    "#categoricals['RFA_6'].value_counts()"
   ]
  },
  {
   "cell_type": "code",
   "execution_count": null,
   "id": "13ed10f5",
   "metadata": {},
   "outputs": [],
   "source": [
    "# We will keep the column RFA_2X. We will delete rest of the columns \n",
    "\n",
    "for col_name in categoricals.columns:\n",
    "    if \"RFA\" in col_name:\n",
    "        drop_list.append(col_name)  "
   ]
  },
  {
   "cell_type": "code",
   "execution_count": null,
   "id": "3b9c4e76",
   "metadata": {},
   "outputs": [],
   "source": [
    "drop_list.remove('RFA_2R')\n",
    "drop_list.remove('RFA_2A')\n",
    "drop_list"
   ]
  },
  {
   "cell_type": "code",
   "execution_count": null,
   "id": "034990ad",
   "metadata": {},
   "outputs": [],
   "source": [
    "# categoricals = categoricals.drop(columns=drop_list)\n",
    "# categoricals.head()"
   ]
  },
  {
   "cell_type": "code",
   "execution_count": null,
   "id": "a70e02d1",
   "metadata": {},
   "outputs": [],
   "source": [
    "categoricals.isna().sum()"
   ]
  },
  {
   "cell_type": "code",
   "execution_count": null,
   "id": "b236c90f",
   "metadata": {},
   "outputs": [],
   "source": [
    "categoricals = categoricals.drop(columns=[col for col in drop_list if col in categoricals])   # dropping cols in the drop_list\n",
    "categoricals.head()"
   ]
  },
  {
   "cell_type": "code",
   "execution_count": null,
   "id": "02eccde1",
   "metadata": {},
   "outputs": [],
   "source": [
    "categoricals.shape"
   ]
  },
  {
   "cell_type": "code",
   "execution_count": null,
   "id": "f25532df",
   "metadata": {},
   "outputs": [],
   "source": [
    "categoricals = categoricals.dropna(axis = 1)\n",
    "categoricals"
   ]
  },
  {
   "cell_type": "code",
   "execution_count": null,
   "id": "cd8a141e",
   "metadata": {},
   "outputs": [],
   "source": [
    "categoricals.to_csv('categorical_df_', index = False)"
   ]
  },
  {
   "cell_type": "markdown",
   "id": "7d691352",
   "metadata": {},
   "source": [
    "# Working with Numerical Columns"
   ]
  },
  {
   "cell_type": "code",
   "execution_count": null,
   "id": "4a36b05d",
   "metadata": {},
   "outputs": [],
   "source": [
    "numericals.head()"
   ]
  },
  {
   "cell_type": "code",
   "execution_count": null,
   "id": "944ac75e",
   "metadata": {},
   "outputs": [],
   "source": [
    "numericals.shape"
   ]
  },
  {
   "cell_type": "code",
   "execution_count": null,
   "id": "98178a37",
   "metadata": {},
   "outputs": [],
   "source": [
    "df = pd.DataFrame(numericals.isna().sum()).reset_index()\n",
    "df.columns = ['column_name', 'nulls']\n",
    "df[df['nulls']>0]"
   ]
  },
  {
   "cell_type": "markdown",
   "id": "c8c53f27",
   "metadata": {},
   "source": [
    "# Filling NULL values together with plots"
   ]
  },
  {
   "cell_type": "code",
   "execution_count": null,
   "id": "586e0756",
   "metadata": {},
   "outputs": [],
   "source": [
    "numericals['AGE'].value_counts(dropna=False)"
   ]
  },
  {
   "cell_type": "code",
   "execution_count": null,
   "id": "c8859810",
   "metadata": {},
   "outputs": [],
   "source": [
    "sns.distplot(numericals['AGE'])\n",
    "plt.show()"
   ]
  },
  {
   "cell_type": "code",
   "execution_count": null,
   "id": "85344dd1",
   "metadata": {},
   "outputs": [],
   "source": [
    "numericals['AGE'] = numericals[\"AGE\"].fillna(np.mean(numericals['AGE']))\n",
    "#probably would be a bit better to use a predictive method here but this works\n",
    "sns.distplot(numericals['AGE'])\n",
    "plt.show()"
   ]
  },
  {
   "cell_type": "code",
   "execution_count": null,
   "id": "f170eace",
   "metadata": {},
   "outputs": [],
   "source": []
  },
  {
   "cell_type": "code",
   "execution_count": null,
   "id": "23091dd1",
   "metadata": {},
   "outputs": [],
   "source": [
    "sns.distplot(numericals['INCOME']) \n",
    "plt.show()"
   ]
  },
  {
   "cell_type": "code",
   "execution_count": null,
   "id": "2b147f89",
   "metadata": {},
   "outputs": [],
   "source": [
    "# looks like the variable is actually categorical. We can verify it by using value_counts()\n",
    "print(numericals['INCOME'].value_counts(dropna=False))\n",
    "#numerical['INCOME'] = numerical['INCOME'].astype('object')"
   ]
  },
  {
   "cell_type": "code",
   "execution_count": null,
   "id": "ee842339",
   "metadata": {},
   "outputs": [],
   "source": [
    "#numerical.INCOME = np.where(numerical['INCOME']=='5.0', 5.0, numerical['INCOME'])\n",
    "numericals['INCOME'] = numericals['INCOME'].fillna(5.0) # Replacing the null values with the most represented category\n",
    "# earlier we did this by predicting INCOME from a number of other numeric fields"
   ]
  },
  {
   "cell_type": "code",
   "execution_count": null,
   "id": "5ad96130",
   "metadata": {},
   "outputs": [],
   "source": [
    "sns.distplot(numericals[numericals['CLUSTER2'].isna()==False]['CLUSTER2']) \n",
    "plt.show()"
   ]
  },
  {
   "cell_type": "code",
   "execution_count": null,
   "id": "a1862e6c",
   "metadata": {},
   "outputs": [],
   "source": [
    "numericals['CLUSTER2'].value_counts()"
   ]
  },
  {
   "cell_type": "code",
   "execution_count": null,
   "id": "445f5da0",
   "metadata": {},
   "outputs": [],
   "source": [
    "np.mean(numericals['CLUSTER2'])"
   ]
  },
  {
   "cell_type": "code",
   "execution_count": null,
   "id": "dc21b332",
   "metadata": {},
   "outputs": [],
   "source": [
    "numericals['CLUSTER2'] = numericals['CLUSTER2'].fillna(np.ceil(np.mean(numericals['CLUSTER2'])))"
   ]
  },
  {
   "cell_type": "code",
   "execution_count": null,
   "id": "ccd17526",
   "metadata": {},
   "outputs": [],
   "source": [
    "np.ceil(np.mean(numericals['CLUSTER2']))"
   ]
  },
  {
   "cell_type": "code",
   "execution_count": null,
   "id": "8bd3d5b0",
   "metadata": {},
   "outputs": [],
   "source": [
    "sns.distplot(numericals['CLUSTER2']) \n",
    "plt.show()"
   ]
  },
  {
   "cell_type": "code",
   "execution_count": null,
   "id": "97132454",
   "metadata": {},
   "outputs": [],
   "source": [
    "numericals"
   ]
  },
  {
   "cell_type": "code",
   "execution_count": null,
   "id": "2d93d998",
   "metadata": {},
   "outputs": [],
   "source": [
    "numericals['DMA'].value_counts()"
   ]
  },
  {
   "cell_type": "code",
   "execution_count": null,
   "id": "b8884cef",
   "metadata": {},
   "outputs": [],
   "source": [
    "numericals['DMA'].isna()"
   ]
  },
  {
   "cell_type": "code",
   "execution_count": null,
   "id": "3cd465b5",
   "metadata": {},
   "outputs": [],
   "source": [
    "numericals = numericals.dropna(axis = 1)   # all columns with nans are dropped\n",
    "numericals"
   ]
  },
  {
   "cell_type": "code",
   "execution_count": null,
   "id": "9a017ba9",
   "metadata": {},
   "outputs": [],
   "source": [
    "numericals.to_csv('numerical_df_', index = False)"
   ]
  }
 ],
 "metadata": {
  "kernelspec": {
   "display_name": "Python 3 (ipykernel)",
   "language": "python",
   "name": "python3"
  },
  "language_info": {
   "codemirror_mode": {
    "name": "ipython",
    "version": 3
   },
   "file_extension": ".py",
   "mimetype": "text/x-python",
   "name": "python",
   "nbconvert_exporter": "python",
   "pygments_lexer": "ipython3",
   "version": "3.11.3"
  }
 },
 "nbformat": 4,
 "nbformat_minor": 5
}
